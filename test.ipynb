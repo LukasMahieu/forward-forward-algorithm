{
 "cells": [
  {
   "cell_type": "code",
   "execution_count": 78,
   "metadata": {},
   "outputs": [],
   "source": [
    "import torch.nn.functional as F\n",
    "from torch.utils.data import DataLoader, random_split\n",
    "from torchvision import transforms\n",
    "from torchvision.datasets import ImageFolder\n",
    "from torchvision.datasets import CIFAR10\n",
    "from torchvision.datasets import MNIST\n",
    "import torch\n",
    "\n",
    "train_test_transforms = transforms.Compose(\n",
    "    [\n",
    "        transforms.ToTensor(),\n",
    "        transforms.Normalize((0.1307,), (0.3081,)),\n",
    "    ]\n",
    ")"
   ]
  },
  {
   "cell_type": "code",
   "execution_count": 79,
   "metadata": {},
   "outputs": [],
   "source": [
    "def _create_mask(image_tensor: torch.Tensor, n_repeats: int = 8) -> tuple[torch.Tensor, torch.Tensor]:\n",
    "    \"\"\"Create a mask for the image.\n",
    "    Start with random bit image and repeatedly blur with a filter of form [1/4, 1/2, 1/4]\n",
    "    in both horizontal and vertical direction. Threshold the image to get a binary mask.\n",
    "\n",
    "    Args:\n",
    "        image_tensor (torch.Tensor): image tensor (1x28x28)\n",
    "\n",
    "    Returns:\n",
    "        tuple[torch.Tensor, torch.Tensor]: mask tensor, inverse of mask tensor\n",
    "    \"\"\"\n",
    "    # Create random bit image\n",
    "    mask = torch.randint(0, 2, image_tensor.shape).float()\n",
    "\n",
    "    # Blur the image\n",
    "    for _ in range(n_repeats):\n",
    "        mask = F.conv2d(mask, torch.tensor([0.25, 0.5, 0.25]).view(1, 1, 3, 1), padding=(1, 0))\n",
    "        mask = F.conv2d(mask, torch.tensor([0.25, 0.5, 0.25]).view(1, 1, 1, 3), padding=(0, 1))\n",
    "\n",
    "    # Threshold the mask\n",
    "    mask = (mask > 0.5).float()\n",
    "\n",
    "    # Inverse of mask\n",
    "    mask_inv = 1 - mask\n",
    "\n",
    "    return mask, mask_inv"
   ]
  },
  {
   "cell_type": "code",
   "execution_count": 119,
   "metadata": {},
   "outputs": [],
   "source": [
    "data_path = 'data'\n",
    "\n",
    "positive_dataset = MNIST(\n",
    "    root=data_path,\n",
    "    train=True,\n",
    "    download=True,\n",
    "    transform=train_test_transforms,\n",
    ")\n",
    "\n",
    "negative_dataset = MNIST(\n",
    "    root=data_path,\n",
    "    train=True,\n",
    "    download=True,\n",
    "    transform=train_test_transforms,\n",
    ")\n",
    "\n",
    "test_dataset = MNIST(\n",
    "    root=data_path,\n",
    "    train=False,\n",
    "    download=True,\n",
    "    transform=train_test_transforms,\n",
    ")"
   ]
  },
  {
   "cell_type": "code",
   "execution_count": 120,
   "metadata": {},
   "outputs": [
    {
     "data": {
      "image/png": "[encoded data removed]",
      "text/plain": [
       "<Figure size 640x480 with 2 Axes>"
      ]
     },
     "metadata": {},
     "output_type": "display_data"
    }
   ],
   "source": [
    "# Display the masks\n",
    "import matplotlib.pyplot as plt\n",
    "pos, neg = _create_mask(positive_dataset[0][0], n_repeats=8)\n",
    "fig, ax = plt.subplots(1, 2)\n",
    "\n",
    "ax[0].imshow(pos[0], cmap='gray')\n",
    "ax[1].imshow(neg[0], cmap='gray')\n",
    "plt.show()\n"
   ]
  },
  {
   "cell_type": "code",
   "execution_count": 121,
   "metadata": {},
   "outputs": [],
   "source": [
    "\n",
    "original_images = negative_dataset.data.clone()\n",
    "original_labels = negative_dataset.targets.clone()"
   ]
  },
  {
   "cell_type": "code",
   "execution_count": 132,
   "metadata": {},
   "outputs": [],
   "source": [
    "import random\n",
    "plot = False\n",
    "\n",
    "# Create negative dataset\n",
    "for i in range(len(negative_dataset)):\n",
    "\n",
    "    # Create mask\n",
    "    mask, mask_inv = _create_mask(original_images[i].unsqueeze(0))\n",
    "\n",
    "    # Pick a random image from the dataset that has a different target label\n",
    "    indices = original_labels != original_labels[i]\n",
    "    indices = torch.nonzero(indices).squeeze()\n",
    "    random_index = int(random.choice(indices))\n",
    "    random_diff_digit  = original_images[random_index].unsqueeze(0)\n",
    "\n",
    "    # Create new negative image\n",
    "    negative_dataset.data[i] = (\n",
    "        mask * original_images[i] + mask_inv * random_diff_digit[0]\n",
    "    ) # TODO: stop changing in place\n",
    "\n",
    "    # Display the image and the random_digit\n",
    "    if plot:\n",
    "        fig, ax = plt.subplots(1, 5)\n",
    "        ax[0].imshow(original_images[i], cmap='gray') # original image])\n",
    "        ax[1].imshow(mask[0], cmap='gray') # mask\n",
    "        ax[2].imshow(mask_inv[0], cmap='gray') # inverse of mask\n",
    "        ax[3].imshow(random_diff_digit[0], cmap='gray') # random digit\n",
    "        ax[4].imshow(negative_dataset.data[i], cmap='gray') # new negative image\n",
    "\n",
    "        plt.show()"
   ]
  }
 ],
 "metadata": {
  "kernelspec": {
   "display_name": ".venv",
   "language": "python",
   "name": "python3"
  },
  "language_info": {
   "codemirror_mode": {
    "name": "ipython",
    "version": 3
   },
   "file_extension": ".py",
   "mimetype": "text/x-python",
   "name": "python",
   "nbconvert_exporter": "python",
   "pygments_lexer": "ipython3",
   "version": "3.10.10 (tags/v3.10.10:aad5f6a, Feb  7 2023, 17:20:36) [MSC v.1929 64 bit (AMD64)]"
  },
  "orig_nbformat": 4,
  "vscode": {
   "interpreter": {
    "hash": "927554202407194309bd9841242f2bdbbc5618ecdceee10ccdb01216d84d287d"
   }
  }
 },
 "nbformat": 4,
 "nbformat_minor": 2
}
