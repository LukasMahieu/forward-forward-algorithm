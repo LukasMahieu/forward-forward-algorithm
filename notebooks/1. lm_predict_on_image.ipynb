{
 "cells": [
  {
   "cell_type": "code",
   "execution_count": 5,
   "metadata": {},
   "outputs": [],
   "source": [
    "import torch\n",
    "from torch.utils.data import DataLoader\n",
    "import matplotlib.pyplot as plt\n",
    "\n",
    "# Install forwardforward using pip install -e .\n",
    "from forwardforward.networks.cnn import ReceptiveFieldNet\n",
    "from forwardforward.datasets.supervised import create_mnist_datasets_supervised"
   ]
  },
  {
   "cell_type": "code",
   "execution_count": 6,
   "metadata": {},
   "outputs": [],
   "source": [
    "weights_path = \"../models/supervised_2023-06-24_16-54-37_5_8.45.pt\"\n",
    "device = torch.device(\"cuda\" if torch.cuda.is_available() else \"cpu\")\n",
    "model = ReceptiveFieldNet(device).to(device)\n",
    "model.load_weights_dict(torch.load(weights_path))"
   ]
  },
  {
   "cell_type": "code",
   "execution_count": 7,
   "metadata": {},
   "outputs": [
    {
     "name": "stdout",
     "output_type": "stream",
     "text": [
      "Loading MNIST dataset...\n",
      "Positive data already exists, skipping...\n",
      "Negative data already exists, skipping...\n",
      "torch.Size([1, 1, 28, 28])\n"
     ]
    }
   ],
   "source": [
    "model.eval()\n",
    "\n",
    "_, _, test = create_mnist_datasets_supervised(\"../data\")\n",
    "test_loader = DataLoader(\n",
    "    test, batch_size=1, shuffle=True, num_workers=0\n",
    ")\n",
    "\n",
    "images, labels = next(iter(test_loader))\n",
    "images = images.to(device)\n",
    "labels = labels.to(device)"
   ]
  },
  {
   "cell_type": "code",
   "execution_count": 8,
   "metadata": {},
   "outputs": [
    {
     "data": {
      "text/plain": [
       "tensor([5], device='cuda:0')"
      ]
     },
     "execution_count": 8,
     "metadata": {},
     "output_type": "execute_result"
    }
   ],
   "source": [
    "model.forward_supervised(images)"
   ]
  },
  {
   "cell_type": "code",
   "execution_count": 10,
   "metadata": {},
   "outputs": [
    {
     "data": {
      "text/plain": [
       "tensor([7], device='cuda:0')"
      ]
     },
     "execution_count": 10,
     "metadata": {},
     "output_type": "execute_result"
    }
   ],
   "source": [
    "labels"
   ]
  },
  {
   "cell_type": "code",
   "execution_count": 12,
   "metadata": {},
   "outputs": [],
   "source": [
    "def _overlay_y_on_x_batch(images: torch.Tensor, label: int):\n",
    "    \"\"\"Create a positive sample by taking an image and replacing the first 10 pixels by a one of N representation of the label\"\"\"\n",
    "    overlayed_images = images.clone()\n",
    "    for i in range(images.shape[0]):\n",
    "        overlayed_images[i, 0, 0, :10] = overlayed_images.min()\n",
    "        overlayed_images[i, 0, 0, label] = overlayed_images.max()\n",
    "    return overlayed_images"
   ]
  },
  {
   "cell_type": "code",
   "execution_count": 20,
   "metadata": {},
   "outputs": [
    {
     "name": "stdout",
     "output_type": "stream",
     "text": [
      "torch.Size([1, 1, 28, 28])\n"
     ]
    },
    {
     "data": {
      "text/plain": [
       "<matplotlib.image.AxesImage at 0x2596d4011b0>"
      ]
     },
     "execution_count": 20,
     "metadata": {},
     "output_type": "execute_result"
    },
    {
     "data": {
      "image/png": "[encoded data removed]",
      "text/plain": [
       "<Figure size 640x480 with 1 Axes>"
      ]
     },
     "metadata": {},
     "output_type": "display_data"
    }
   ],
   "source": [
    "overlayed = _overlay_y_on_x_batch(images, 0)\n",
    "print(overlayed.shape)\n",
    "\n",
    "# Plot overlayed image\n",
    "plt.imshow(overlayed[0, 0, :,:].cpu().numpy(), cmap=\"gray\")"
   ]
  },
  {
   "cell_type": "code",
   "execution_count": 28,
   "metadata": {},
   "outputs": [
    {
     "name": "stdout",
     "output_type": "stream",
     "text": [
      "tensor([5.4330], device='cuda:0', grad_fn=<MeanBackward1>)\n",
      "tensor([3.7699], device='cuda:0', grad_fn=<MeanBackward1>)\n",
      "tensor([1.7910], device='cuda:0', grad_fn=<MeanBackward1>)\n",
      "tensor([5.4393], device='cuda:0', grad_fn=<MeanBackward1>)\n",
      "tensor([3.7739], device='cuda:0', grad_fn=<MeanBackward1>)\n",
      "tensor([1.7910], device='cuda:0', grad_fn=<MeanBackward1>)\n",
      "tensor([5.4331], device='cuda:0', grad_fn=<MeanBackward1>)\n",
      "tensor([3.7724], device='cuda:0', grad_fn=<MeanBackward1>)\n",
      "tensor([1.7910], device='cuda:0', grad_fn=<MeanBackward1>)\n",
      "tensor([5.4305], device='cuda:0', grad_fn=<MeanBackward1>)\n",
      "tensor([3.7763], device='cuda:0', grad_fn=<MeanBackward1>)\n",
      "tensor([1.7910], device='cuda:0', grad_fn=<MeanBackward1>)\n",
      "tensor([5.4276], device='cuda:0', grad_fn=<MeanBackward1>)\n",
      "tensor([3.7747], device='cuda:0', grad_fn=<MeanBackward1>)\n",
      "tensor([1.7910], device='cuda:0', grad_fn=<MeanBackward1>)\n",
      "tensor([5.4379], device='cuda:0', grad_fn=<MeanBackward1>)\n",
      "tensor([3.7758], device='cuda:0', grad_fn=<MeanBackward1>)\n",
      "tensor([1.7910], device='cuda:0', grad_fn=<MeanBackward1>)\n",
      "tensor([5.3990], device='cuda:0', grad_fn=<MeanBackward1>)\n",
      "tensor([3.7618], device='cuda:0', grad_fn=<MeanBackward1>)\n",
      "tensor([1.7910], device='cuda:0', grad_fn=<MeanBackward1>)\n",
      "tensor([5.4163], device='cuda:0', grad_fn=<MeanBackward1>)\n",
      "tensor([3.7675], device='cuda:0', grad_fn=<MeanBackward1>)\n",
      "tensor([1.7910], device='cuda:0', grad_fn=<MeanBackward1>)\n",
      "tensor([5.4109], device='cuda:0', grad_fn=<MeanBackward1>)\n",
      "tensor([3.7653], device='cuda:0', grad_fn=<MeanBackward1>)\n",
      "tensor([1.7910], device='cuda:0', grad_fn=<MeanBackward1>)\n",
      "tensor([5.4123], device='cuda:0', grad_fn=<MeanBackward1>)\n",
      "tensor([3.7725], device='cuda:0', grad_fn=<MeanBackward1>)\n",
      "tensor([1.7910], device='cuda:0', grad_fn=<MeanBackward1>)\n"
     ]
    }
   ],
   "source": [
    "goodness_per_label = []\n",
    "for label in range(10):\n",
    "    h = _overlay_y_on_x_batch(images, label)\n",
    "    layer_goodness = []\n",
    "    for layer in model.layers:\n",
    "        h = layer(h)  # [B, C, H, W]\n",
    "        layer_goodness.append(\n",
    "            torch.mean(torch.square(h), dim=(1, 2, 3))\n",
    "        )  # [B]\n",
    "        print(torch.mean(torch.square(h), dim=(1, 2, 3)))\n",
    "    goodness_per_label.append(\n",
    "        torch.sum(torch.stack(layer_goodness, dim=1), dim=1)\n",
    "    )\n",
    "argmax = torch.stack(goodness_per_label, dim=1).argmax(1)  # [B]"
   ]
  },
  {
   "cell_type": "code",
   "execution_count": 23,
   "metadata": {},
   "outputs": [
    {
     "data": {
      "text/plain": [
       "tensor([5], device='cuda:0')"
      ]
     },
     "execution_count": 23,
     "metadata": {},
     "output_type": "execute_result"
    }
   ],
   "source": [
    "argmax"
   ]
  }
 ],
 "metadata": {
  "kernelspec": {
   "display_name": ".venv",
   "language": "python",
   "name": "python3"
  },
  "language_info": {
   "codemirror_mode": {
    "name": "ipython",
    "version": 3
   },
   "file_extension": ".py",
   "mimetype": "text/x-python",
   "name": "python",
   "nbconvert_exporter": "python",
   "pygments_lexer": "ipython3",
   "version": "3.10.11"
  },
  "orig_nbformat": 4
 },
 "nbformat": 4,
 "nbformat_minor": 2
}
