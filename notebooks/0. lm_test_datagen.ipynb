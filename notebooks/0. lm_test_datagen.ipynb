{
 "cells": [
  {
   "cell_type": "code",
   "execution_count": 1,
   "metadata": {},
   "outputs": [],
   "source": [
    "import numpy as np\n",
    "import random\n",
    "import os\n",
    "import matplotlib.pyplot as plt\n",
    "from tqdm import tqdm\n",
    "\n",
    "import torch\n",
    "from torchvision import transforms\n",
    "from torchvision.datasets import MNIST\n",
    "import torch.nn.functional as F\n",
    "from torch.utils.data import DataLoader"
   ]
  },
  {
   "attachments": {},
   "cell_type": "markdown",
   "metadata": {},
   "source": [
    "## Unsupservised Dataset"
   ]
  },
  {
   "cell_type": "code",
   "execution_count": 113,
   "metadata": {},
   "outputs": [],
   "source": [
    "# Functions\n",
    "def _create_mask(\n",
    "    image_tensor: torch.Tensor, n_repeats: int = 8\n",
    ") -> tuple[torch.Tensor, torch.Tensor]:\n",
    "    \"\"\"Create a mask and its inverse for the image.\n",
    "\n",
    "    Start with random bit image and repeatedly blur with a filter of form [1/4, 1/2, 1/4] in both horizontal and vertical direction. Threshold the image to get a binary mask.\n",
    "\n",
    "    Note: I played around with this and found that 8 repeats gives a mask that makes the most sense. I do wonder if it's not better to start with a positive masks that ensures larger regions of 1's than 0's, which is not always the case here.\n",
    "\n",
    "    Args:\n",
    "        image_tensor (torch.Tensor): image tensor (1x28x28)\n",
    "\n",
    "    Returns:\n",
    "        tuple[torch.Tensor, torch.Tensor]: mask tensor, inverse of mask tensor\n",
    "    \"\"\"\n",
    "    # Create random bit image\n",
    "    mask = torch.randint(0, 2, image_tensor.shape).float()\n",
    "\n",
    "    # Blur the image\n",
    "    for _ in range(n_repeats):\n",
    "        mask = F.conv2d(\n",
    "            mask,\n",
    "            torch.tensor([0.25, 0.5, 0.25]).view(1, 1, 3, 1),\n",
    "            padding=(0, 1),\n",
    "        )\n",
    "        mask = F.conv2d(\n",
    "            mask,\n",
    "            torch.tensor([0.25, 0.5, 0.25]).view(1, 1, 1, 3),\n",
    "            padding=(1, 0),\n",
    "        )\n",
    "\n",
    "    mask = (mask > 0.5).float()  # threshold\n",
    "    mask_inv = 1 - mask  # inverse\n",
    "\n",
    "    return mask, mask_inv\n",
    "\n",
    "def _load_mnist(root: str = \"data\"):\n",
    "    \"\"\"Load MNIST dataset.\n",
    "\n",
    "    Returns:\n",
    "        tuple[torch.utils.data.Dataset, torch.utils.data.Dataset]: train dataset, test dataset\n",
    "    \"\"\"\n",
    "    print(\"Loading MNIST dataset...\")\n",
    "    # Transformations\n",
    "    transform = transforms.Compose(\n",
    "        [transforms.ToTensor(), transforms.Normalize((0.1307,), (0.3081,))]\n",
    "    )\n",
    "\n",
    "    # Load datasets\n",
    "    train_dataset = MNIST(root=root, train=True, download=True, transform=transform)\n",
    "    test_dataset = MNIST(root=root, train=False, download=True, transform=transform)\n",
    "\n",
    "    return train_dataset, test_dataset"
   ]
  },
  {
   "cell_type": "code",
   "execution_count": 56,
   "metadata": {},
   "outputs": [
    {
     "name": "stdout",
     "output_type": "stream",
     "text": [
      "Loading MNIST dataset...\n"
     ]
    }
   ],
   "source": [
    "train_dataset, test_dataset = _load_mnist(\"../data\")"
   ]
  },
  {
   "cell_type": "code",
   "execution_count": 118,
   "metadata": {},
   "outputs": [
    {
     "data": {
      "text/plain": [
       "Text(0.5, 1.0, 'Inverse Mask')"
      ]
     },
     "execution_count": 118,
     "metadata": {},
     "output_type": "execute_result"
    },
    {
     "data": {
      "image/png": "[encoded data removed]",
      "text/plain": [
       "<Figure size 1000x500 with 3 Axes>"
      ]
     },
     "metadata": {},
     "output_type": "display_data"
    }
   ],
   "source": [
    "# Take a random image from the train dataset\n",
    "image, _ = train_dataset[random.randint(0, len(train_dataset) - 1)]\n",
    "mask, mask_inv = _create_mask(image)\n",
    "\n",
    "# Plot the image and the masks\n",
    "fig, ax = plt.subplots(1, 3, figsize=(10, 5))\n",
    "ax[0].imshow(image.squeeze(), cmap=\"gray\")\n",
    "ax[0].set_title(\"Image\")\n",
    "ax[1].imshow(mask.squeeze(), cmap=\"gray\")\n",
    "ax[1].set_title(\"Mask\")\n",
    "ax[2].imshow(mask_inv.squeeze(), cmap=\"gray\")\n",
    "ax[2].set_title(\"Inverse Mask\")"
   ]
  },
  {
   "cell_type": "code",
   "execution_count": 119,
   "metadata": {},
   "outputs": [
    {
     "data": {
      "text/plain": [
       "Text(0.5, 1.0, 'Image 2')"
      ]
     },
     "execution_count": 119,
     "metadata": {},
     "output_type": "execute_result"
    },
    {
     "data": {
      "image/png": "[encoded data removed]",
      "text/plain": [
       "<Figure size 1000x500 with 3 Axes>"
      ]
     },
     "metadata": {},
     "output_type": "display_data"
    }
   ],
   "source": [
    "# Apply the mask to the image times the inverse mask applied to a different random image\n",
    "image2, _ = train_dataset[random.randint(0, len(train_dataset) - 1)]\n",
    "negative_image = image2 * mask_inv + image * mask\n",
    "\n",
    "# Plot the image, negative image, and image2\n",
    "fig, ax = plt.subplots(1, 3, figsize=(10, 5))\n",
    "ax[0].imshow(image.squeeze(), cmap=\"gray\")\n",
    "ax[0].set_title(\"Image 1\")\n",
    "ax[1].imshow(negative_image.squeeze(), cmap=\"gray\")\n",
    "ax[1].set_title(\"Hybrid Image\")\n",
    "ax[2].imshow(image2.squeeze(), cmap=\"gray\")\n",
    "ax[2].set_title(\"Image 2\")"
   ]
  },
  {
   "attachments": {},
   "cell_type": "markdown",
   "metadata": {},
   "source": [
    "## Supervised"
   ]
  }
 ],
 "metadata": {
  "kernelspec": {
   "display_name": ".venv",
   "language": "python",
   "name": "python3"
  },
  "language_info": {
   "codemirror_mode": {
    "name": "ipython",
    "version": 3
   },
   "file_extension": ".py",
   "mimetype": "text/x-python",
   "name": "python",
   "nbconvert_exporter": "python",
   "pygments_lexer": "ipython3",
   "version": "3.10.11"
  },
  "orig_nbformat": 4
 },
 "nbformat": 4,
 "nbformat_minor": 2
}
